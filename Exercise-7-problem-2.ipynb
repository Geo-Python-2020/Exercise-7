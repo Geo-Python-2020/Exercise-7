{
 "cells": [
  {
   "cell_type": "markdown",
   "metadata": {},
   "source": [
    "## Problem 2 - Plotting temperatures (7 points)\n",
    "\n",
    "In this problem we will  plot monthly mean temperatures from the Helsinki-Vantaa airpot for the past 30 years.\n",
    "\n",
    "The final output should look like this:\n",
    "![line plot](img/temp_line_plot.png)\n",
    "\n",
    "## Input data\n",
    "\n",
    "File `data/helsinki-vantaa.csv` monthly average temperatures from Helsinki Vantaa airport. Column descriptions:\n",
    "\n",
    "- `DATE`: YEAR-MONTH-DAY (the time stamp contains the first day of each month, but values in other columns are average values for the whole month!)\n",
    "- `USAF`: Station number\n",
    "- `TEMP_F`: Monthly mean temperature in Fahrenheit \n",
    "- `TEMP_C`: Monthly mean temperature in Celsius\n",
    "- `REF_TEMP_C`: Long term average in Celsius (for the period 1988-2018)\n",
    "- `DIFF_C`: Difference between monthly mean and long term average in Celsius\n",
    "\n",
    "\n",
    "### Steps\n",
    "\n",
    "1. Load the Helsinki temperature data (`data/helsinki-vantaa.csv`):\n",
    "    - read the data into variable called `data` using pandas\n",
    "    - Parse dates from the column `'DATE'` and set the dates as index in the data frame "
   ]
  },
  {
   "cell_type": "code",
   "execution_count": null,
   "metadata": {
    "deletable": false,
    "nbgrader": {
     "cell_type": "code",
     "checksum": "151de7bc9173c1a268bd1a031699dab0",
     "grade": false,
     "grade_id": "read_data",
     "locked": false,
     "schema_version": 3,
     "solution": true
    }
   },
   "outputs": [],
   "source": [
    "# REPLACE THE ERROR BELOW WITH YOUR OWN CODE\n",
    "raise NotImplementedError()"
   ]
  },
  {
   "cell_type": "code",
   "execution_count": null,
   "metadata": {
    "deletable": false,
    "editable": false,
    "nbgrader": {
     "cell_type": "code",
     "checksum": "4363448880c9a072c9082527de5b6b46",
     "grade": true,
     "grade_id": "problem_2_read_data_tests",
     "locked": true,
     "points": 0.5,
     "schema_version": 3,
     "solution": false
    }
   },
   "outputs": [],
   "source": [
    "# This test print should print first five rows\n",
    "print(data.head())"
   ]
  },
  {
   "cell_type": "code",
   "execution_count": null,
   "metadata": {
    "deletable": false,
    "editable": false,
    "nbgrader": {
     "cell_type": "code",
     "checksum": "4bbed245488b1e6543774c23cbcf7035",
     "grade": true,
     "grade_id": "problem_2_index_test",
     "locked": true,
     "points": 0.5,
     "schema_version": 3,
     "solution": false,
     "task": false
    }
   },
   "outputs": [],
   "source": [
    "# Check the number of rows in the data frame\n",
    "print(len(data))"
   ]
  },
  {
   "cell_type": "markdown",
   "metadata": {
    "deletable": false,
    "editable": false,
    "nbgrader": {
     "cell_type": "markdown",
     "checksum": "37a61f6fe54952391158aad2191420f7",
     "grade": false,
     "grade_id": "cell-97cb58eda54e413d",
     "locked": true,
     "schema_version": 3,
     "solution": false
    }
   },
   "source": [
    "2. Select data for a 30 year period (January 1988 - December 2018):\n",
    "    - store the selection in a new variable `selection`"
   ]
  },
  {
   "cell_type": "code",
   "execution_count": null,
   "metadata": {
    "deletable": false,
    "nbgrader": {
     "cell_type": "code",
     "checksum": "5e13934af46fe982ecbd1e8210d769b7",
     "grade": false,
     "grade_id": "select_data",
     "locked": false,
     "schema_version": 3,
     "solution": true
    }
   },
   "outputs": [],
   "source": [
    "# REPLACE THE ERROR BELOW WITH YOUR OWN CODE\n",
    "raise NotImplementedError()"
   ]
  },
  {
   "cell_type": "code",
   "execution_count": null,
   "metadata": {
    "deletable": false,
    "editable": false,
    "nbgrader": {
     "cell_type": "code",
     "checksum": "d617495ffeae702b3b1e4888365610ab",
     "grade": true,
     "grade_id": "problem_2_select_data_test1",
     "locked": true,
     "points": 1,
     "schema_version": 3,
     "solution": false
    }
   },
   "outputs": [],
   "source": [
    "# Check that the data was read in correctly:\n",
    "selection.head()"
   ]
  },
  {
   "cell_type": "code",
   "execution_count": null,
   "metadata": {
    "deletable": false,
    "editable": false,
    "nbgrader": {
     "cell_type": "code",
     "checksum": "033223d13e466171fbcc66b440d8db68",
     "grade": true,
     "grade_id": "problem_2_select_data_test2",
     "locked": true,
     "points": 1,
     "schema_version": 3,
     "solution": false
    }
   },
   "outputs": [],
   "source": [
    "# Check how many rows of data you selected:\n",
    "print(\"Number of rows:\", len(selection))"
   ]
  },
  {
   "cell_type": "markdown",
   "metadata": {
    "deletable": false,
    "editable": false,
    "nbgrader": {
     "cell_type": "markdown",
     "checksum": "fbe6f8f4ebc91585b0e68a7ef435db51",
     "grade": false,
     "grade_id": "cell-322ca8ec0694eac9",
     "locked": true,
     "schema_version": 3,
     "solution": false
    }
   },
   "source": [
    "4: Create a line plot that displays the temperatures (`TEMP_C`) for yeach month in the 30 year time period:\n",
    "     \n",
    " - Adjust line style:\n",
    "     - solid line \n",
    "     - black color\n",
    "     - round markers\n",
    "     \n",
    " - Add title and axis labels:\n",
    "     - title: `\"Helsinki-Vantaa Airport\"` \n",
    "     - X-label should be `\"Time\"`\n",
    "     - Y-label should be `\"Temperature (Celsius)\"`\n",
    " \n",
    "**HINTS:**\n",
    "- Use `%matplotlib inline` to view the plot in this notebook \n",
    "- Control the figure size:\n",
    "     - create a figure object and use the `figsize` parameter. \n",
    "     - The example figure uses `figsize=(14,6)` (you can experiment also with other figure sizes!)\n",
    "- you can control the marker size using parameter `markersize` when plotting. The example plot uses markersize 3.\n",
    "- you can add the grid lines using: `plt.grid()`.\n"
   ]
  },
  {
   "cell_type": "markdown",
   "metadata": {
    "deletable": false,
    "editable": false,
    "nbgrader": {
     "cell_type": "markdown",
     "checksum": "3aa236e50f5cf627a7fd8e003e7c058b",
     "grade": false,
     "grade_id": "cell-b10b5ded5458b20c",
     "locked": true,
     "schema_version": 3,
     "solution": false
    }
   },
   "source": [
    "5: Save your figure as PNG file called `temp_line_plot.png` into disk.\n"
   ]
  },
  {
   "cell_type": "code",
   "execution_count": null,
   "metadata": {
    "deletable": false,
    "nbgrader": {
     "cell_type": "code",
     "checksum": "ed69d308c8652af4448e0d3ed92d50c6",
     "grade": true,
     "grade_id": "plot_data",
     "locked": false,
     "points": 3,
     "schema_version": 3,
     "solution": true
    }
   },
   "outputs": [],
   "source": [
    "%matplotlib inline\n",
    "# REPLACE THE ERROR BELOW WITH YOUR OWN CODE\n",
    "raise NotImplementedError()\n",
    "\n",
    "# Set output file name\n",
    "outputfp = \"\"\n",
    "\n",
    "# Save plot as image\n",
    "# REPLACE THE ERROR BELOW WITH YOUR OWN CODE\n",
    "raise NotImplementedError()"
   ]
  },
  {
   "cell_type": "code",
   "execution_count": null,
   "metadata": {
    "deletable": false,
    "editable": false,
    "nbgrader": {
     "cell_type": "code",
     "checksum": "f2c01fb819196368ea0cdda027e7e912",
     "grade": true,
     "grade_id": "problem_2_outputfile_test",
     "locked": true,
     "points": 1,
     "schema_version": 3,
     "solution": false,
     "task": false
    }
   },
   "outputs": [],
   "source": [
    "import os\n",
    "\n",
    "#Check that output file exists (also open the file and check that the plot looks ok!)\n",
    "os.path.exists(outputfp)"
   ]
  },
  {
   "cell_type": "markdown",
   "metadata": {
    "deletable": false,
    "editable": false,
    "nbgrader": {
     "cell_type": "markdown",
     "checksum": "a0eb992acbef0bfbb9017a85fd9c768e",
     "grade": false,
     "grade_id": "cell-d006f551c24788b6",
     "locked": true,
     "schema_version": 3,
     "solution": false
    }
   },
   "source": [
    "6: Upload your figure and the modified notebook into your personal GitHub repository.\n",
    "\n",
    "### Done!"
   ]
  },
  {
   "cell_type": "markdown",
   "metadata": {},
   "source": [
    "### Optional extra task: interactive plot\n",
    "\n",
    "Create an interactive version of the monthly temperatures using [Pandas Bokeh](https://github.com/PatrikHlobil/Pandas-Bokeh)!"
   ]
  },
  {
   "cell_type": "code",
   "execution_count": null,
   "metadata": {
    "deletable": false,
    "nbgrader": {
     "cell_type": "code",
     "checksum": "e479b55cc800b5c1d1459fbf268aecfb",
     "grade": true,
     "grade_id": "problem_2_import_bokeh",
     "locked": false,
     "points": 0,
     "schema_version": 3,
     "solution": true,
     "task": false
    }
   },
   "outputs": [],
   "source": [
    "# Import and enable pandas bokeh in this notebook\n",
    "\n",
    "# REPLACE THE ERROR BELOW WITH YOUR OWN CODE\n",
    "raise NotImplementedError()"
   ]
  },
  {
   "cell_type": "code",
   "execution_count": null,
   "metadata": {
    "deletable": false,
    "nbgrader": {
     "cell_type": "code",
     "checksum": "2d948f5d2523ec8c87af9491df58392b",
     "grade": true,
     "grade_id": "problem_2_plot_bokeh",
     "locked": false,
     "points": 0,
     "schema_version": 3,
     "solution": true,
     "task": false
    }
   },
   "outputs": [],
   "source": [
    "# Plot an interactive visualization of the monthly temperatures. \n",
    "# Note! You might have to re-order the data before plotting.\n",
    "\n",
    "# REPLACE THE ERROR BELOW WITH YOUR OWN CODE\n",
    "raise NotImplementedError()\n"
   ]
  }
 ],
 "metadata": {
  "kernelspec": {
   "display_name": "Python 3",
   "language": "python",
   "name": "python3"
  },
  "language_info": {
   "codemirror_mode": {
    "name": "ipython",
    "version": 3
   },
   "file_extension": ".py",
   "mimetype": "text/x-python",
   "name": "python",
   "nbconvert_exporter": "python",
   "pygments_lexer": "ipython3",
   "version": "3.7.6"
  }
 },
 "nbformat": 4,
 "nbformat_minor": 4
}
